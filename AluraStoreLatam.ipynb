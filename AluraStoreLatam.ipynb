{
  "cells": [
    {
      "cell_type": "markdown",
      "metadata": {
        "id": "RhEdWd9YUR6H"
      },
      "source": [
        "### Importación de datos\n",
        "\n"
      ]
    },
    {
      "cell_type": "code",
      "execution_count": 8,
      "metadata": {
        "colab": {
          "base_uri": "https://localhost:8080/",
          "height": 206
        },
        "id": "T3EvaeQ_INIL",
        "outputId": "e9c5efe1-82a3-43ab-e8d7-6d01e4fa3514"
      },
      "outputs": [
        {
          "data": {
            "text/html": [
              "<div>\n",
              "<style scoped>\n",
              "    .dataframe tbody tr th:only-of-type {\n",
              "        vertical-align: middle;\n",
              "    }\n",
              "\n",
              "    .dataframe tbody tr th {\n",
              "        vertical-align: top;\n",
              "    }\n",
              "\n",
              "    .dataframe thead th {\n",
              "        text-align: right;\n",
              "    }\n",
              "</style>\n",
              "<table border=\"1\" class=\"dataframe\">\n",
              "  <thead>\n",
              "    <tr style=\"text-align: right;\">\n",
              "      <th></th>\n",
              "      <th>Producto</th>\n",
              "      <th>Categoría del Producto</th>\n",
              "      <th>Precio</th>\n",
              "      <th>Costo de envío</th>\n",
              "      <th>Fecha de Compra</th>\n",
              "      <th>Vendedor</th>\n",
              "      <th>Lugar de Compra</th>\n",
              "      <th>Calificación</th>\n",
              "      <th>Método de pago</th>\n",
              "      <th>Cantidad de cuotas</th>\n",
              "      <th>lat</th>\n",
              "      <th>lon</th>\n",
              "    </tr>\n",
              "  </thead>\n",
              "  <tbody>\n",
              "    <tr>\n",
              "      <th>0</th>\n",
              "      <td>Asistente virtual</td>\n",
              "      <td>Electrónicos</td>\n",
              "      <td>164300.0</td>\n",
              "      <td>6900.0</td>\n",
              "      <td>16/01/2021</td>\n",
              "      <td>Pedro Gomez</td>\n",
              "      <td>Bogotá</td>\n",
              "      <td>4</td>\n",
              "      <td>Tarjeta de crédito</td>\n",
              "      <td>8</td>\n",
              "      <td>4.60971</td>\n",
              "      <td>-74.08175</td>\n",
              "    </tr>\n",
              "    <tr>\n",
              "      <th>1</th>\n",
              "      <td>Mesa de comedor</td>\n",
              "      <td>Muebles</td>\n",
              "      <td>192300.0</td>\n",
              "      <td>8400.0</td>\n",
              "      <td>18/05/2022</td>\n",
              "      <td>Beatriz Morales</td>\n",
              "      <td>Medellín</td>\n",
              "      <td>1</td>\n",
              "      <td>Tarjeta de crédito</td>\n",
              "      <td>4</td>\n",
              "      <td>6.25184</td>\n",
              "      <td>-75.56359</td>\n",
              "    </tr>\n",
              "    <tr>\n",
              "      <th>2</th>\n",
              "      <td>Juego de mesa</td>\n",
              "      <td>Juguetes</td>\n",
              "      <td>209600.0</td>\n",
              "      <td>15900.0</td>\n",
              "      <td>15/03/2021</td>\n",
              "      <td>Juan Fernandez</td>\n",
              "      <td>Cartagena</td>\n",
              "      <td>1</td>\n",
              "      <td>Tarjeta de crédito</td>\n",
              "      <td>1</td>\n",
              "      <td>10.39972</td>\n",
              "      <td>-75.51444</td>\n",
              "    </tr>\n",
              "    <tr>\n",
              "      <th>3</th>\n",
              "      <td>Microondas</td>\n",
              "      <td>Electrodomésticos</td>\n",
              "      <td>757500.0</td>\n",
              "      <td>41000.0</td>\n",
              "      <td>03/05/2022</td>\n",
              "      <td>Juan Fernandez</td>\n",
              "      <td>Cali</td>\n",
              "      <td>4</td>\n",
              "      <td>Nequi</td>\n",
              "      <td>1</td>\n",
              "      <td>3.43722</td>\n",
              "      <td>-76.52250</td>\n",
              "    </tr>\n",
              "    <tr>\n",
              "      <th>4</th>\n",
              "      <td>Silla de oficina</td>\n",
              "      <td>Muebles</td>\n",
              "      <td>335200.0</td>\n",
              "      <td>20200.0</td>\n",
              "      <td>07/11/2020</td>\n",
              "      <td>Maria Alfonso</td>\n",
              "      <td>Medellín</td>\n",
              "      <td>5</td>\n",
              "      <td>Nequi</td>\n",
              "      <td>1</td>\n",
              "      <td>6.25184</td>\n",
              "      <td>-75.56359</td>\n",
              "    </tr>\n",
              "  </tbody>\n",
              "</table>\n",
              "</div>"
            ],
            "text/plain": [
              "            Producto Categoría del Producto    Precio  Costo de envío  \\\n",
              "0  Asistente virtual           Electrónicos  164300.0          6900.0   \n",
              "1    Mesa de comedor                Muebles  192300.0          8400.0   \n",
              "2      Juego de mesa               Juguetes  209600.0         15900.0   \n",
              "3         Microondas      Electrodomésticos  757500.0         41000.0   \n",
              "4   Silla de oficina                Muebles  335200.0         20200.0   \n",
              "\n",
              "  Fecha de Compra         Vendedor Lugar de Compra  Calificación  \\\n",
              "0      16/01/2021      Pedro Gomez          Bogotá             4   \n",
              "1      18/05/2022  Beatriz Morales        Medellín             1   \n",
              "2      15/03/2021   Juan Fernandez       Cartagena             1   \n",
              "3      03/05/2022   Juan Fernandez            Cali             4   \n",
              "4      07/11/2020    Maria Alfonso        Medellín             5   \n",
              "\n",
              "       Método de pago  Cantidad de cuotas       lat       lon  \n",
              "0  Tarjeta de crédito                   8   4.60971 -74.08175  \n",
              "1  Tarjeta de crédito                   4   6.25184 -75.56359  \n",
              "2  Tarjeta de crédito                   1  10.39972 -75.51444  \n",
              "3               Nequi                   1   3.43722 -76.52250  \n",
              "4               Nequi                   1   6.25184 -75.56359  "
            ]
          },
          "execution_count": 8,
          "metadata": {},
          "output_type": "execute_result"
        }
      ],
      "source": [
        "import pandas as pd\n",
        "\n",
        "url1 = \"https://raw.githubusercontent.com/alura-es-cursos/challenge1-data-science-latam/refs/heads/main/base-de-datos-challenge1-latam/tienda_1%20.csv\"\n",
        "url2 = \"https://raw.githubusercontent.com/alura-es-cursos/challenge1-data-science-latam/refs/heads/main/base-de-datos-challenge1-latam/tienda_2.csv\"\n",
        "url3 = \"https://raw.githubusercontent.com/alura-es-cursos/challenge1-data-science-latam/refs/heads/main/base-de-datos-challenge1-latam/tienda_3.csv\"\n",
        "url4 = \"https://raw.githubusercontent.com/alura-es-cursos/challenge1-data-science-latam/refs/heads/main/base-de-datos-challenge1-latam/tienda_4.csv\"\n",
        "\n",
        "tienda1 = pd.read_csv(url1)\n",
        "tienda2 = pd.read_csv(url2)\n",
        "tienda3 = pd.read_csv(url3)\n",
        "tienda4 = pd.read_csv(url4)\n",
        "\n",
        "tienda1.head()"
      ]
    },
    {
      "cell_type": "markdown",
      "metadata": {
        "id": "X62IW3KFUIYm"
      },
      "source": [
        "#1. Análisis de facturación\n",
        "\n"
      ]
    },
    {
      "cell_type": "code",
      "execution_count": 6,
      "metadata": {
        "id": "xykobSftV64I"
      },
      "outputs": [
        {
          "name": "stdout",
          "output_type": "stream",
          "text": [
            "ingresos_tienda 1: 1150880400.0\n",
            "ingresos_tienda 2: 1116343500.0\n",
            "ingresos_tienda 3: 1098019600.0\n",
            "ingresos_tienda 4: 1038375700.0\n"
          ]
        }
      ],
      "source": [
        "# Calculo de los ingresos totales por cada tienda \n",
        "\n",
        "ingresos_tienda_1 = tienda1 ['Precio'].sum()\n",
        "ingresos_tienda_2 = tienda2 ['Precio'].sum()\n",
        "ingresos_tienda_3 = tienda3 ['Precio'].sum()\n",
        "ingresos_tienda_4 = tienda4 ['Precio'].sum()\n",
        "\n",
        "print('ingresos_tienda 1:', ingresos_tienda_1)\n",
        "print('ingresos_tienda 2:', ingresos_tienda_2)\n",
        "print('ingresos_tienda 3:', ingresos_tienda_3)\n",
        "print('ingresos_tienda 4:', ingresos_tienda_4)\n",
        "\n"
      ]
    },
    {
      "cell_type": "code",
      "execution_count": null,
      "metadata": {
        "id": "KDyr8E71V3m-"
      },
      "outputs": [
        {
          "data": {
            "image/png": "[encoded data removed]",
            "text/plain": [
              "<Figure size 1000x600 with 1 Axes>"
            ]
          },
          "metadata": {},
          "output_type": "display_data"
        }
      ],
      "source": [
        "import matplotlib.pyplot as plt\n",
        "\n",
        "# Datos existentes \n",
        "\n",
        "Tiendas = ['tienda1', 'tienda2','tienda3', 'tienda4']\n",
        "Ingresos = [ingresos_tienda_1, ingresos_tienda_2, ingresos_tienda_3, ingresos_tienda_4]\n",
        "\n",
        "\n",
        "# Grafico\n",
        "\n",
        "plt.figure(figsize=(10,6))\n",
        "plt.bar(Tiendas, Ingresos)\n",
        "plt.title('Ingresos de las tiendas')\n",
        "plt.xlabel('Tiendas')\n",
        "plt.ylabel('Ingresos')\n",
        "plt.xticks(rotation=45)\n",
        "\n",
        "# Añadir los valores encima de cada barra\n",
        "\n",
        "for i, ingreso in enumerate(Ingresos):\n",
        "    plt.text(i, ingreso, f'{ingreso:.2f}', ha='center', va='bottom')\n",
        "\n",
        "plt.tight_layout()\n",
        "plt.show()\n",
        "\n",
        "\n"
      ]
    },
    {
      "cell_type": "markdown",
      "metadata": {
        "id": "2V_vcAPzWZmR"
      },
      "source": [
        "# 2. Ventas por categoría"
      ]
    },
    {
      "cell_type": "code",
      "execution_count": null,
      "metadata": {
        "id": "A34YupIuYhfF"
      },
      "outputs": [
        {
          "name": "stdout",
          "output_type": "stream",
          "text": [
            "Cantidad de productos vendidos por categoría en Tienda 1:\n",
            "Muebles                     465\n",
            "Electrónicos                448\n",
            "Juguetes                    324\n",
            "Electrodomésticos           312\n",
            "Deportes y diversión        284\n",
            "Instrumentos musicales      182\n",
            "Libros                      173\n",
            "Artículos para el hogar     171\n",
            "\n",
            "----------------------------------------\n",
            "\n",
            "Cantidad de productos vendidos por categoría en Tienda 2:\n",
            "Muebles                     442\n",
            "Electrónicos                422\n",
            "Juguetes                    313\n",
            "Electrodomésticos           305\n",
            "Deportes y diversión        275\n",
            "Instrumentos musicales      224\n",
            "Libros                      197\n",
            "Artículos para el hogar     181\n",
            "\n",
            "----------------------------------------\n",
            "\n",
            "Cantidad de productos vendidos por categoría en Tienda 3:\n",
            "Muebles                     499\n",
            "Electrónicos                451\n",
            "Juguetes                    315\n",
            "Electrodomésticos           278\n",
            "Deportes y diversión        277\n",
            "Libros                      185\n",
            "Instrumentos musicales      177\n",
            "Artículos para el hogar     177\n",
            "\n",
            "----------------------------------------\n",
            "\n",
            "Cantidad de productos vendidos por categoría en Tienda 4:\n",
            "Muebles                     480\n",
            "Electrónicos                451\n",
            "Juguetes                    338\n",
            "Deportes y diversión        277\n",
            "Electrodomésticos           254\n",
            "Artículos para el hogar     201\n",
            "Libros                      187\n",
            "Instrumentos musicales      170\n",
            "\n",
            "----------------------------------------\n",
            "\n"
          ]
        }
      ],
      "source": [
        "# Contar las categorías por tienda\n",
        "\n",
        "categoria_t1 = tienda1['Categoría del Producto'].value_counts()\n",
        "categoria_t2 = tienda2['Categoría del Producto'].value_counts()\n",
        "categoria_t3 = tienda3['Categoría del Producto'].value_counts()\n",
        "categoria_t4 = tienda4['Categoría del Producto'].value_counts()\n",
        "\n",
        "# Función para mostrar los resultados\n",
        "\n",
        "def mostrar_cantidada_por_categoria(categorias, nombre_tienda):\n",
        "    \n",
        "    print(f\"Cantidad de productos vendidos por categoría en {nombre_tienda}:\")\n",
        "    for categoria, cantidad in categorias.items():\n",
        "        print(f\"{categoria:<25} {cantidad:>5}\")\n",
        "\n",
        "    print(\"\\n\" + \"-\" * 40 + \"\\n\")  # Separador\n",
        "\n",
        "# Mostrar la cantidad de productos vendidos por categoría para cada tienda\n",
        "\n",
        "mostrar_cantidada_por_categoria(categoria_t1, \"Tienda 1\")\n",
        "mostrar_cantidada_por_categoria(categoria_t2, \"Tienda 2\")\n",
        "mostrar_cantidada_por_categoria(categoria_t3, \"Tienda 3\")\n",
        "mostrar_cantidada_por_categoria(categoria_t4, \"Tienda 4\")\n"
      ]
    },
    {
      "cell_type": "markdown",
      "metadata": {
        "id": "Rq6tU_xSY3jk"
      },
      "source": [
        "# 3. Calificación promedio de la tienda\n"
      ]
    },
    {
      "cell_type": "code",
      "execution_count": 34,
      "metadata": {
        "id": "bh3jjjJwY5MU"
      },
      "outputs": [
        {
          "name": "stdout",
          "output_type": "stream",
          "text": [
            "Proemdio de calificación de la Tienda 1: 3.98\n",
            "Proemdio de calificación de la Tienda 2: 4.04\n",
            "Proemdio de calificación de la Tienda 3: 4.05\n",
            "Proemdio de calificación de la Tienda 4: 4.0\n"
          ]
        }
      ],
      "source": [
        "califiaccionProemdioTienda1 = round(tienda1['Calificación'].mean(),2)\n",
        "califiaccionProemdioTienda2 = round(tienda2['Calificación'].mean(),2)\n",
        "califiaccionProemdioTienda3 = round(tienda3['Calificación'].mean(),2)\n",
        "califiaccionProemdioTienda4= round(tienda4['Calificación'].mean(),2)\n",
        "\n",
        "print('Proemdio de calificación de la Tienda 1:', califiaccionProemdioTienda1)\n",
        "print('Proemdio de calificación de la Tienda 2:', califiaccionProemdioTienda2)\n",
        "print('Proemdio de calificación de la Tienda 3:', califiaccionProemdioTienda3)\n",
        "print('Proemdio de calificación de la Tienda 4:', califiaccionProemdioTienda4)\n"
      ]
    },
    {
      "cell_type": "code",
      "execution_count": 36,
      "metadata": {
        "id": "I0KkjPoTY88F"
      },
      "outputs": [
        {
          "data": {
            "image/png": "[encoded data removed]",
            "text/plain": [
              "<Figure size 1000x600 with 1 Axes>"
            ]
          },
          "metadata": {},
          "output_type": "display_data"
        }
      ],
      "source": [
        "calificaciones =[califiaccionProemdioTienda1, califiaccionProemdioTienda2, califiaccionProemdioTienda3, califiaccionProemdioTienda4] \n",
        "\n",
        "plt.figure(figsize=(10, 6))\n",
        "bars = plt.bar(Tiendas,calificaciones, color=\"blue\")\n",
        "plt.title('Promedi de calificación por tienda')\n",
        "plt.ylabel('Calificación Promedio')\n",
        "plt.ylim(3.5, 4.2)\n",
        "\n",
        "# Añadir valores encima de las barras\n",
        "\n",
        "for i, valor in enumerate(calificaciones):\n",
        "    plt.text(i, valor + 0.02, f\"{valor:.2f}\", ha='center', va='bottom', fontsize=10)\n",
        "\n",
        "\n",
        "plt.show()# Grafico de las calificaciones de las tiendas\n",
        "\n"
      ]
    },
    {
      "cell_type": "markdown",
      "metadata": {
        "id": "DmNp1KPBZCm-"
      },
      "source": [
        "# 4. Productos más y menos vendidos"
      ]
    },
    {
      "cell_type": "code",
      "execution_count": 41,
      "metadata": {
        "id": "qoyjqijQZHfF"
      },
      "outputs": [
        {
          "name": "stdout",
          "output_type": "stream",
          "text": [
            "Top 3 productos  mas vendidos por Tienda - Tienda 1\n",
            "Microondas                                        60\n",
            "TV LED UHD 4K                                     60\n",
            "Armario                                           60\n",
            "\n",
            "----------------------------------------\n",
            "\n",
            "Top 3 productos  mas vendidos por Tienda - Tienda 2\n",
            "Iniciando en programación                         65\n",
            "Microondas                                        62\n",
            "Batería                                           61\n",
            "\n",
            "----------------------------------------\n",
            "\n",
            "Top 3 productos  mas vendidos por Tienda - Tienda 3\n",
            "Kit de bancas                                     57\n",
            "Mesa de comedor                                   56\n",
            "Cama king                                         56\n",
            "\n",
            "----------------------------------------\n",
            "\n",
            "Top 3 productos  mas vendidos por Tienda - Tienda 4\n",
            "Cama box                                          62\n",
            "Cubertería                                        59\n",
            "Dashboards con Power BI                           56\n",
            "\n",
            "----------------------------------------\n",
            "\n"
          ]
        }
      ],
      "source": [
        "productos_t1 = tienda1['Producto'].value_counts()\n",
        "productos_t2 = tienda2['Producto'].value_counts()\n",
        "productos_t3 = tienda3['Producto'].value_counts()\n",
        "productos_t4 = tienda4['Producto'].value_counts()\n",
        "\n",
        "# Mostrar los tres productos mas vendidos por tienda \n",
        "\n",
        "def mostrar_3_productos_top(productos,nombre_tienda):\n",
        "    print(f\"Top 3 productos  mas vendidos por Tienda - {nombre_tienda}\")\n",
        "\n",
        "    for producto, cantidad in productos.head(3).items():\n",
        "        print(f\"{producto: <25}  {cantidad:>25}\")\n",
        "\n",
        "\n",
        "# Separador entre tiendas \n",
        "\n",
        "    print(\"\\n\" + \"-\" * 40 + \"\\n\")  # Separador\n",
        "\n",
        "# Mostrar los 3 productos  mas vendidos  para cada tienda\n",
        "\n",
        "mostrar_3_productos_top(productos_t1,\"Tienda 1\")\n",
        "mostrar_3_productos_top(productos_t2,\"Tienda 2\")\n",
        "mostrar_3_productos_top(productos_t3,\"Tienda 3\")\n",
        "mostrar_3_productos_top(productos_t4,\"Tienda 4\") \n",
        "\n"
      ]
    },
    {
      "cell_type": "markdown",
      "metadata": {
        "id": "Fl0cGi3bZKqU"
      },
      "source": [
        "# 5. Envío promedio por tienda"
      ]
    },
    {
      "cell_type": "code",
      "execution_count": 42,
      "metadata": {
        "id": "S2JeaCykZNy9"
      },
      "outputs": [
        {
          "name": "stdout",
          "output_type": "stream",
          "text": [
            "Promedio de envío por Tienda1: 26018.61\n",
            "Promedio de envío por Tienda2: 25216.24\n",
            "Promedio de envío por Tienda3: 24805.68\n",
            "Promedio de envío por Tienda4: 23459.46\n"
          ]
        }
      ],
      "source": [
        "costoDeEnvioTienda1 = round(tienda1['Costo de envío'].mean(),2)\n",
        "costoDeEnvioTienda2 = round(tienda2['Costo de envío'].mean(),2)\n",
        "costoDeEnvioTienda3 = round(tienda3['Costo de envío'].mean(),2)\n",
        "costoDeEnvioTienda4 = round(tienda4['Costo de envío'].mean(),2)\n",
        "\n",
        "print('Promedio de envío por Tienda1:', costoDeEnvioTienda1)\n",
        "print('Promedio de envío por Tienda2:', costoDeEnvioTienda2)\n",
        "print('Promedio de envío por Tienda3:', costoDeEnvioTienda3)\n",
        "print('Promedio de envío por Tienda4:', costoDeEnvioTienda4)"
      ]
    },
    {
      "cell_type": "code",
      "execution_count": 46,
      "metadata": {
        "id": "0tSdCie9ZQlt"
      },
      "outputs": [
        {
          "data": {
            "image/png": "[encoded data removed]",
            "text/plain": [
              "<Figure size 640x480 with 1 Axes>"
            ]
          },
          "metadata": {},
          "output_type": "display_data"
        }
      ],
      "source": [
        "# Datos \n",
        "envios =[costoDeEnvioTienda1, costoDeEnvioTienda2, costoDeEnvioTienda3, costoDeEnvioTienda4]\n",
        "\n",
        "# grafico  de barras horizontales \n",
        "\n",
        "bars = plt.barh(Tiendas, envios, color='blue')\n",
        "plt.title('Promedio de costos de envío por Tienda')\n",
        "plt.xlabel('Costo de envío (S/)')\n",
        "\n",
        "# Mostrar valores el lado de las barras \n",
        "\n",
        "for bar in bars:\n",
        "    plt.text(bar.get_width() + 500, bar.get_y()+ bar.get_height()/2, f\"{bar.get_width():,.2f}\", va='center')\n",
        "\n",
        "# Eliminar los bordes del grafico pero dejando las etiquetas de la izquierda \n",
        "\n",
        "plt.gca().spines['right'].set_visible(False)\n",
        "plt.gca().spines['top'].set_visible(False)\n",
        "\n",
        "\n",
        "\n",
        "\n",
        "    \n",
        "plt.show()"
      ]
    }
  ],
  "metadata": {
    "colab": {
      "provenance": []
    },
    "kernelspec": {
      "display_name": "Python 3",
      "name": "python3"
    },
    "language_info": {
      "codemirror_mode": {
        "name": "ipython",
        "version": 3
      },
      "file_extension": ".py",
      "mimetype": "text/x-python",
      "name": "python",
      "nbconvert_exporter": "python",
      "pygments_lexer": "ipython3",
      "version": "3.12.5"
    }
  },
  "nbformat": 4,
  "nbformat_minor": 0
}
